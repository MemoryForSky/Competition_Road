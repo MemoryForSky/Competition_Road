{
 "cells": [
  {
   "cell_type": "code",
   "execution_count": 2,
   "metadata": {},
   "outputs": [],
   "source": [
    "import numpy as np\n",
    "import pandas as pd\n",
    "from sklearn.model_selection import StratifiedKFold\n",
    "import lightgbm as lgb\n",
    "from sklearn.metrics import f1_score\n",
    "from gensim.models import Word2Vec\n",
    "import seaborn as sns\n",
    "\n",
    "import warnings\n",
    "warnings.filterwarnings('ignore')"
   ]
  },
  {
   "cell_type": "code",
   "execution_count": 3,
   "metadata": {
    "scrolled": true
   },
   "outputs": [],
   "source": [
    "train = pd.read_csv('./data/train.txt', header=None)\n",
    "test = pd.read_csv('./data/apply_new.txt', header=None)"
   ]
  },
  {
   "cell_type": "code",
   "execution_count": 4,
   "metadata": {},
   "outputs": [],
   "source": [
    "train.columns = ['pid', 'label', 'gender', 'age', 'tagid', 'time', 'province', 'city', 'model', 'make']\n",
    "test.columns = ['pid', 'gender', 'age', 'tagid', 'time', 'province', 'city', 'model', 'make']\n",
    "\n",
    "data = pd.concat([train, test], axis=0)"
   ]
  },
  {
   "cell_type": "markdown",
   "metadata": {},
   "source": [
    "### 1、数据探索"
   ]
  },
  {
   "cell_type": "code",
   "execution_count": 5,
   "metadata": {},
   "outputs": [
    {
     "data": {
      "text/html": [
       "<div>\n",
       "<style scoped>\n",
       "    .dataframe tbody tr th:only-of-type {\n",
       "        vertical-align: middle;\n",
       "    }\n",
       "\n",
       "    .dataframe tbody tr th {\n",
       "        vertical-align: top;\n",
       "    }\n",
       "\n",
       "    .dataframe thead th {\n",
       "        text-align: right;\n",
       "    }\n",
       "</style>\n",
       "<table border=\"1\" class=\"dataframe\">\n",
       "  <thead>\n",
       "    <tr style=\"text-align: right;\">\n",
       "      <th></th>\n",
       "      <th>pid</th>\n",
       "      <th>label</th>\n",
       "      <th>gender</th>\n",
       "      <th>age</th>\n",
       "      <th>tagid</th>\n",
       "      <th>time</th>\n",
       "      <th>province</th>\n",
       "      <th>city</th>\n",
       "      <th>model</th>\n",
       "      <th>make</th>\n",
       "    </tr>\n",
       "  </thead>\n",
       "  <tbody>\n",
       "    <tr>\n",
       "      <th>0</th>\n",
       "      <td>1016588</td>\n",
       "      <td>0</td>\n",
       "      <td>NaN</td>\n",
       "      <td>NaN</td>\n",
       "      <td>[4457057,9952871,8942704,11273992,12410356,129...</td>\n",
       "      <td>[1.606747390128E12,1.606747390128E12,1.6067473...</td>\n",
       "      <td>广西</td>\n",
       "      <td>北海</td>\n",
       "      <td>华为</td>\n",
       "      <td>华为 mate20pro</td>\n",
       "    </tr>\n",
       "    <tr>\n",
       "      <th>1</th>\n",
       "      <td>1295808</td>\n",
       "      <td>1</td>\n",
       "      <td>NaN</td>\n",
       "      <td>5.0</td>\n",
       "      <td>[10577375,13567578,4437795,8934804,9352464,133...</td>\n",
       "      <td>[1.605842042532E12,1.592187596698E12,1.5598650...</td>\n",
       "      <td>广东</td>\n",
       "      <td>广州</td>\n",
       "      <td>OPPO</td>\n",
       "      <td>r11</td>\n",
       "    </tr>\n",
       "    <tr>\n",
       "      <th>2</th>\n",
       "      <td>1110160</td>\n",
       "      <td>0</td>\n",
       "      <td>NaN</td>\n",
       "      <td>NaN</td>\n",
       "      <td>[11171956,9454883,9361934,10578048,10234462,12...</td>\n",
       "      <td>[1.607351673175E12,1.607351673175E12,1.6073516...</td>\n",
       "      <td>内蒙古</td>\n",
       "      <td>锡林郭勒盟</td>\n",
       "      <td>小米</td>\n",
       "      <td>小米 红米note2</td>\n",
       "    </tr>\n",
       "    <tr>\n",
       "      <th>3</th>\n",
       "      <td>1132597</td>\n",
       "      <td>0</td>\n",
       "      <td>NaN</td>\n",
       "      <td>2.0</td>\n",
       "      <td>[4457927,9412324,12292192,9231799,11977927,852...</td>\n",
       "      <td>[1.56015519913E12,1.56015519913E12,1.582942163...</td>\n",
       "      <td>四川</td>\n",
       "      <td>成都</td>\n",
       "      <td>vivo</td>\n",
       "      <td>vivo x20</td>\n",
       "    </tr>\n",
       "    <tr>\n",
       "      <th>4</th>\n",
       "      <td>1108714</td>\n",
       "      <td>0</td>\n",
       "      <td>NaN</td>\n",
       "      <td>NaN</td>\n",
       "      <td>[5737867,5105608,13792904,5454488,13098817,141...</td>\n",
       "      <td>[1.591494981671E12,1.616071068225E12,1.6160710...</td>\n",
       "      <td>湖南</td>\n",
       "      <td>长沙</td>\n",
       "      <td>vivo</td>\n",
       "      <td>x23</td>\n",
       "    </tr>\n",
       "  </tbody>\n",
       "</table>\n",
       "</div>"
      ],
      "text/plain": [
       "       pid  label  gender  age  \\\n",
       "0  1016588      0     NaN  NaN   \n",
       "1  1295808      1     NaN  5.0   \n",
       "2  1110160      0     NaN  NaN   \n",
       "3  1132597      0     NaN  2.0   \n",
       "4  1108714      0     NaN  NaN   \n",
       "\n",
       "                                               tagid  \\\n",
       "0  [4457057,9952871,8942704,11273992,12410356,129...   \n",
       "1  [10577375,13567578,4437795,8934804,9352464,133...   \n",
       "2  [11171956,9454883,9361934,10578048,10234462,12...   \n",
       "3  [4457927,9412324,12292192,9231799,11977927,852...   \n",
       "4  [5737867,5105608,13792904,5454488,13098817,141...   \n",
       "\n",
       "                                                time province   city model  \\\n",
       "0  [1.606747390128E12,1.606747390128E12,1.6067473...       广西     北海    华为   \n",
       "1  [1.605842042532E12,1.592187596698E12,1.5598650...       广东     广州  OPPO   \n",
       "2  [1.607351673175E12,1.607351673175E12,1.6073516...      内蒙古  锡林郭勒盟    小米   \n",
       "3  [1.56015519913E12,1.56015519913E12,1.582942163...       四川     成都  vivo   \n",
       "4  [1.591494981671E12,1.616071068225E12,1.6160710...       湖南     长沙  vivo   \n",
       "\n",
       "           make  \n",
       "0  华为 mate20pro  \n",
       "1           r11  \n",
       "2    小米 红米note2  \n",
       "3      vivo x20  \n",
       "4           x23  "
      ]
     },
     "execution_count": 5,
     "metadata": {},
     "output_type": "execute_result"
    }
   ],
   "source": [
    "train.head()"
   ]
  },
  {
   "cell_type": "code",
   "execution_count": 6,
   "metadata": {},
   "outputs": [
    {
     "data": {
      "text/plain": [
       "(300000, 10)"
      ]
     },
     "execution_count": 6,
     "metadata": {},
     "output_type": "execute_result"
    }
   ],
   "source": [
    "train.shape"
   ]
  },
  {
   "cell_type": "code",
   "execution_count": 7,
   "metadata": {},
   "outputs": [
    {
     "data": {
      "text/plain": [
       "(100000, 9)"
      ]
     },
     "execution_count": 7,
     "metadata": {},
     "output_type": "execute_result"
    }
   ],
   "source": [
    "test.shape"
   ]
  },
  {
   "cell_type": "code",
   "execution_count": 8,
   "metadata": {},
   "outputs": [
    {
     "name": "stdout",
     "output_type": "stream",
     "text": [
      "<class 'pandas.core.frame.DataFrame'>\n",
      "RangeIndex: 300000 entries, 0 to 299999\n",
      "Data columns (total 10 columns):\n",
      " #   Column    Non-Null Count   Dtype  \n",
      "---  ------    --------------   -----  \n",
      " 0   pid       300000 non-null  int64  \n",
      " 1   label     300000 non-null  int64  \n",
      " 2   gender    57638 non-null   float64\n",
      " 3   age       261369 non-null  float64\n",
      " 4   tagid     300000 non-null  object \n",
      " 5   time      300000 non-null  object \n",
      " 6   province  300000 non-null  object \n",
      " 7   city      300000 non-null  object \n",
      " 8   model     300000 non-null  object \n",
      " 9   make      300000 non-null  object \n",
      "dtypes: float64(2), int64(2), object(6)\n",
      "memory usage: 22.9+ MB\n"
     ]
    }
   ],
   "source": [
    "train.info()"
   ]
  },
  {
   "cell_type": "code",
   "execution_count": 9,
   "metadata": {},
   "outputs": [
    {
     "name": "stdout",
     "output_type": "stream",
     "text": [
      "<class 'pandas.core.frame.DataFrame'>\n",
      "RangeIndex: 100000 entries, 0 to 99999\n",
      "Data columns (total 9 columns):\n",
      " #   Column    Non-Null Count   Dtype  \n",
      "---  ------    --------------   -----  \n",
      " 0   pid       100000 non-null  int64  \n",
      " 1   gender    16224 non-null   float64\n",
      " 2   age       87129 non-null   float64\n",
      " 3   tagid     100000 non-null  object \n",
      " 4   time      100000 non-null  object \n",
      " 5   province  100000 non-null  object \n",
      " 6   city      100000 non-null  object \n",
      " 7   model     100000 non-null  object \n",
      " 8   make      100000 non-null  object \n",
      "dtypes: float64(2), int64(1), object(6)\n",
      "memory usage: 6.9+ MB\n"
     ]
    }
   ],
   "source": [
    "test.info()"
   ]
  },
  {
   "cell_type": "code",
   "execution_count": 10,
   "metadata": {},
   "outputs": [],
   "source": [
    "for col in [x for x in data.columns if x not in ['label']]:\n",
    "    data[col] = data[col].fillna('-1')\n",
    "    data[col] = data[col].astype('str')"
   ]
  },
  {
   "cell_type": "code",
   "execution_count": 11,
   "metadata": {},
   "outputs": [
    {
     "data": {
      "text/html": [
       "<div>\n",
       "<style scoped>\n",
       "    .dataframe tbody tr th:only-of-type {\n",
       "        vertical-align: middle;\n",
       "    }\n",
       "\n",
       "    .dataframe tbody tr th {\n",
       "        vertical-align: top;\n",
       "    }\n",
       "\n",
       "    .dataframe thead th {\n",
       "        text-align: right;\n",
       "    }\n",
       "</style>\n",
       "<table border=\"1\" class=\"dataframe\">\n",
       "  <thead>\n",
       "    <tr style=\"text-align: right;\">\n",
       "      <th></th>\n",
       "      <th>pid</th>\n",
       "      <th>label</th>\n",
       "      <th>gender</th>\n",
       "      <th>age</th>\n",
       "      <th>tagid</th>\n",
       "      <th>time</th>\n",
       "      <th>province</th>\n",
       "      <th>city</th>\n",
       "      <th>model</th>\n",
       "      <th>make</th>\n",
       "    </tr>\n",
       "  </thead>\n",
       "  <tbody>\n",
       "    <tr>\n",
       "      <th>0</th>\n",
       "      <td>1016588</td>\n",
       "      <td>0.0</td>\n",
       "      <td>-1</td>\n",
       "      <td>-1</td>\n",
       "      <td>[4457057,9952871,8942704,11273992,12410356,129...</td>\n",
       "      <td>[1.606747390128E12,1.606747390128E12,1.6067473...</td>\n",
       "      <td>广西</td>\n",
       "      <td>北海</td>\n",
       "      <td>华为</td>\n",
       "      <td>华为 mate20pro</td>\n",
       "    </tr>\n",
       "    <tr>\n",
       "      <th>1</th>\n",
       "      <td>1295808</td>\n",
       "      <td>1.0</td>\n",
       "      <td>-1</td>\n",
       "      <td>5.0</td>\n",
       "      <td>[10577375,13567578,4437795,8934804,9352464,133...</td>\n",
       "      <td>[1.605842042532E12,1.592187596698E12,1.5598650...</td>\n",
       "      <td>广东</td>\n",
       "      <td>广州</td>\n",
       "      <td>OPPO</td>\n",
       "      <td>r11</td>\n",
       "    </tr>\n",
       "    <tr>\n",
       "      <th>2</th>\n",
       "      <td>1110160</td>\n",
       "      <td>0.0</td>\n",
       "      <td>-1</td>\n",
       "      <td>-1</td>\n",
       "      <td>[11171956,9454883,9361934,10578048,10234462,12...</td>\n",
       "      <td>[1.607351673175E12,1.607351673175E12,1.6073516...</td>\n",
       "      <td>内蒙古</td>\n",
       "      <td>锡林郭勒盟</td>\n",
       "      <td>小米</td>\n",
       "      <td>小米 红米note2</td>\n",
       "    </tr>\n",
       "    <tr>\n",
       "      <th>3</th>\n",
       "      <td>1132597</td>\n",
       "      <td>0.0</td>\n",
       "      <td>-1</td>\n",
       "      <td>2.0</td>\n",
       "      <td>[4457927,9412324,12292192,9231799,11977927,852...</td>\n",
       "      <td>[1.56015519913E12,1.56015519913E12,1.582942163...</td>\n",
       "      <td>四川</td>\n",
       "      <td>成都</td>\n",
       "      <td>vivo</td>\n",
       "      <td>vivo x20</td>\n",
       "    </tr>\n",
       "    <tr>\n",
       "      <th>4</th>\n",
       "      <td>1108714</td>\n",
       "      <td>0.0</td>\n",
       "      <td>-1</td>\n",
       "      <td>-1</td>\n",
       "      <td>[5737867,5105608,13792904,5454488,13098817,141...</td>\n",
       "      <td>[1.591494981671E12,1.616071068225E12,1.6160710...</td>\n",
       "      <td>湖南</td>\n",
       "      <td>长沙</td>\n",
       "      <td>vivo</td>\n",
       "      <td>x23</td>\n",
       "    </tr>\n",
       "  </tbody>\n",
       "</table>\n",
       "</div>"
      ],
      "text/plain": [
       "       pid  label gender  age  \\\n",
       "0  1016588    0.0     -1   -1   \n",
       "1  1295808    1.0     -1  5.0   \n",
       "2  1110160    0.0     -1   -1   \n",
       "3  1132597    0.0     -1  2.0   \n",
       "4  1108714    0.0     -1   -1   \n",
       "\n",
       "                                               tagid  \\\n",
       "0  [4457057,9952871,8942704,11273992,12410356,129...   \n",
       "1  [10577375,13567578,4437795,8934804,9352464,133...   \n",
       "2  [11171956,9454883,9361934,10578048,10234462,12...   \n",
       "3  [4457927,9412324,12292192,9231799,11977927,852...   \n",
       "4  [5737867,5105608,13792904,5454488,13098817,141...   \n",
       "\n",
       "                                                time province   city model  \\\n",
       "0  [1.606747390128E12,1.606747390128E12,1.6067473...       广西     北海    华为   \n",
       "1  [1.605842042532E12,1.592187596698E12,1.5598650...       广东     广州  OPPO   \n",
       "2  [1.607351673175E12,1.607351673175E12,1.6073516...      内蒙古  锡林郭勒盟    小米   \n",
       "3  [1.56015519913E12,1.56015519913E12,1.582942163...       四川     成都  vivo   \n",
       "4  [1.591494981671E12,1.616071068225E12,1.6160710...       湖南     长沙  vivo   \n",
       "\n",
       "           make  \n",
       "0  华为 mate20pro  \n",
       "1           r11  \n",
       "2    小米 红米note2  \n",
       "3      vivo x20  \n",
       "4           x23  "
      ]
     },
     "execution_count": 11,
     "metadata": {},
     "output_type": "execute_result"
    }
   ],
   "source": [
    "data.head()"
   ]
  },
  {
   "cell_type": "code",
   "execution_count": 12,
   "metadata": {},
   "outputs": [
    {
     "data": {
      "text/plain": [
       "0.5"
      ]
     },
     "execution_count": 12,
     "metadata": {},
     "output_type": "execute_result"
    }
   ],
   "source": [
    "train.label.mean()"
   ]
  },
  {
   "cell_type": "code",
   "execution_count": 13,
   "metadata": {},
   "outputs": [
    {
     "data": {
      "text/plain": [
       "-1     242362\n",
       "0.0     34323\n",
       "1.0     23315\n",
       "Name: gender, dtype: int64"
      ]
     },
     "execution_count": 13,
     "metadata": {},
     "output_type": "execute_result"
    }
   ],
   "source": [
    "data[data.label.notna()].gender.value_counts()"
   ]
  },
  {
   "cell_type": "code",
   "execution_count": 14,
   "metadata": {},
   "outputs": [
    {
     "data": {
      "text/plain": [
       "-1     38631\n",
       "1.0    41278\n",
       "2.0    32632\n",
       "3.0    66861\n",
       "4.0    61678\n",
       "5.0    39936\n",
       "6.0    18984\n",
       "Name: age, dtype: int64"
      ]
     },
     "execution_count": 14,
     "metadata": {},
     "output_type": "execute_result"
    }
   ],
   "source": [
    "data[data.label.notna()].age.value_counts().sort_index()"
   ]
  },
  {
   "cell_type": "code",
   "execution_count": 15,
   "metadata": {},
   "outputs": [
    {
     "data": {
      "text/plain": [
       "34"
      ]
     },
     "execution_count": 15,
     "metadata": {},
     "output_type": "execute_result"
    }
   ],
   "source": [
    "len(train.province.unique())"
   ]
  },
  {
   "cell_type": "code",
   "execution_count": 16,
   "metadata": {},
   "outputs": [
    {
     "data": {
      "text/plain": [
       "34"
      ]
     },
     "execution_count": 16,
     "metadata": {},
     "output_type": "execute_result"
    }
   ],
   "source": [
    "len(test.province.unique())"
   ]
  },
  {
   "cell_type": "code",
   "execution_count": 17,
   "metadata": {},
   "outputs": [
    {
     "data": {
      "text/plain": [
       "315"
      ]
     },
     "execution_count": 17,
     "metadata": {},
     "output_type": "execute_result"
    }
   ],
   "source": [
    "len(train.city.unique())"
   ]
  },
  {
   "cell_type": "code",
   "execution_count": 18,
   "metadata": {},
   "outputs": [
    {
     "data": {
      "text/plain": [
       "310"
      ]
     },
     "execution_count": 18,
     "metadata": {},
     "output_type": "execute_result"
    }
   ],
   "source": [
    "len(test.city.unique())"
   ]
  },
  {
   "cell_type": "code",
   "execution_count": 19,
   "metadata": {},
   "outputs": [
    {
     "data": {
      "text/plain": [
       "119"
      ]
     },
     "execution_count": 19,
     "metadata": {},
     "output_type": "execute_result"
    }
   ],
   "source": [
    "len(train.model.unique())"
   ]
  },
  {
   "cell_type": "code",
   "execution_count": 20,
   "metadata": {},
   "outputs": [
    {
     "data": {
      "text/plain": [
       "73"
      ]
     },
     "execution_count": 20,
     "metadata": {},
     "output_type": "execute_result"
    }
   ],
   "source": [
    "len(test.model.unique())"
   ]
  },
  {
   "cell_type": "code",
   "execution_count": 21,
   "metadata": {},
   "outputs": [
    {
     "data": {
      "text/plain": [
       "{'8848钛金手机',\n",
       " 'E人E本',\n",
       " 'Utoutu',\n",
       " '世纪星',\n",
       " '东芝',\n",
       " '云创通',\n",
       " '台电',\n",
       " '斐讯',\n",
       " '爱我',\n",
       " '瑞芯',\n",
       " '黑鲨'}"
      ]
     },
     "execution_count": 21,
     "metadata": {},
     "output_type": "execute_result"
    }
   ],
   "source": [
    "set(test.model.unique()) - set(train.model.unique())"
   ]
  },
  {
   "cell_type": "code",
   "execution_count": 22,
   "metadata": {},
   "outputs": [
    {
     "data": {
      "text/plain": [
       "OPPO       127881\n",
       "vivo        69619\n",
       "华为          49819\n",
       "荣耀          16672\n",
       "小米           8630\n",
       "            ...  \n",
       "欧博信             1\n",
       "极豆DVD导航         1\n",
       "vetas           1\n",
       "奥乐              1\n",
       "卡布奇诺            1\n",
       "Name: model, Length: 119, dtype: int64"
      ]
     },
     "execution_count": 22,
     "metadata": {},
     "output_type": "execute_result"
    }
   ],
   "source": [
    "train.model.value_counts()"
   ]
  },
  {
   "cell_type": "code",
   "execution_count": 23,
   "metadata": {},
   "outputs": [
    {
     "data": {
      "text/plain": [
       "1398"
      ]
     },
     "execution_count": 23,
     "metadata": {},
     "output_type": "execute_result"
    }
   ],
   "source": [
    "len(train.make.unique())"
   ]
  },
  {
   "cell_type": "code",
   "execution_count": 24,
   "metadata": {},
   "outputs": [
    {
     "data": {
      "text/plain": [
       "779"
      ]
     },
     "execution_count": 24,
     "metadata": {},
     "output_type": "execute_result"
    }
   ],
   "source": [
    "len(test.make.unique())"
   ]
  },
  {
   "cell_type": "code",
   "execution_count": 25,
   "metadata": {},
   "outputs": [
    {
     "data": {
      "text/plain": [
       "734"
      ]
     },
     "execution_count": 25,
     "metadata": {},
     "output_type": "execute_result"
    }
   ],
   "source": [
    "train.tagid.apply(lambda x: len(x.split(','))).max()"
   ]
  },
  {
   "cell_type": "code",
   "execution_count": 26,
   "metadata": {},
   "outputs": [
    {
     "data": {
      "text/plain": [
       "1"
      ]
     },
     "execution_count": 26,
     "metadata": {},
     "output_type": "execute_result"
    }
   ],
   "source": [
    "train.tagid.apply(lambda x: len(x.split(','))).min()"
   ]
  },
  {
   "cell_type": "code",
   "execution_count": 27,
   "metadata": {},
   "outputs": [
    {
     "data": {
      "text/plain": [
       "<matplotlib.axes._subplots.AxesSubplot at 0x23febaebac8>"
      ]
     },
     "execution_count": 27,
     "metadata": {},
     "output_type": "execute_result"
    },
    {
     "data": {
      "image/png": "[encoded data removed]",
      "text/plain": [
       "<Figure size 432x288 with 1 Axes>"
      ]
     },
     "metadata": {
      "needs_background": "light"
     },
     "output_type": "display_data"
    }
   ],
   "source": [
    "sns.kdeplot(train.tagid.apply(lambda x: len(x.split(','))), label='train')\n",
    "sns.kdeplot(test.tagid.apply(lambda x: len(x.split(','))), label='test')"
   ]
  },
  {
   "cell_type": "markdown",
   "metadata": {},
   "source": [
    "### 2、特征衍生"
   ]
  },
  {
   "cell_type": "code",
   "execution_count": 28,
   "metadata": {},
   "outputs": [],
   "source": [
    "# 展开 tageid 和 time 信息\n",
    "data['tagid'] = data['tagid'].apply(lambda x: str(x).replace('[', '').replace(']', ''))\n",
    "data['tagid'] = data['tagid'].apply(lambda x: x.split(','))\n",
    "\n",
    "# 时间序列处理\n",
    "data['time'] = data['time'].apply(lambda x: str(x).replace('[', '').replace(']', ''))\n",
    "data['time'] = data['time'].apply(lambda x: x.split(','))"
   ]
  },
  {
   "cell_type": "code",
   "execution_count": 29,
   "metadata": {},
   "outputs": [],
   "source": [
    "pid = []\n",
    "label = []\n",
    "gender = []\n",
    "age = []\n",
    "tagid = []\n",
    "time = []\n",
    "province = []\n",
    "city = []\n",
    "model = []\n",
    "make = []"
   ]
  },
  {
   "cell_type": "code",
   "execution_count": 30,
   "metadata": {},
   "outputs": [],
   "source": [
    "for sub_data in data.values:\n",
    "    s_tagid = sub_data[4]\n",
    "    s_time = sub_data[5]\n",
    "    for x, y in zip(s_tagid, s_time):\n",
    "        pid.append(sub_data[0])\n",
    "        label.append(sub_data[1])\n",
    "        gender.append(sub_data[2])\n",
    "        age.append(sub_data[3])\n",
    "        tagid.append(x)\n",
    "        time.append(y)\n",
    "        province.append(sub_data[6])\n",
    "        city.append(sub_data[7])\n",
    "        model.append(sub_data[8])\n",
    "        make.append(sub_data[9])"
   ]
  },
  {
   "cell_type": "code",
   "execution_count": 31,
   "metadata": {
    "scrolled": true
   },
   "outputs": [],
   "source": [
    "new_data = pd.DataFrame()\n",
    "new_data['pid'] = pid\n",
    "new_data['label'] = label\n",
    "new_data['gender'] = gender\n",
    "new_data['age'] = age\n",
    "new_data['tagid'] = tagid\n",
    "new_data['time'] = time\n",
    "new_data['province'] = province\n",
    "new_data['city'] = city\n",
    "new_data['model'] = model\n",
    "new_data['make'] = make"
   ]
  },
  {
   "cell_type": "code",
   "execution_count": 32,
   "metadata": {},
   "outputs": [],
   "source": [
    "new_data['label'] = new_data['label'].fillna(-1)\n",
    "\n",
    "new_data['time'] = new_data['time'].astype(float)\n",
    "new_data['time'] = new_data['time'].astype('int64')\n",
    "\n",
    "new_data['date'] = pd.to_datetime(new_data['time'], unit='ms')"
   ]
  },
  {
   "cell_type": "code",
   "execution_count": 33,
   "metadata": {},
   "outputs": [],
   "source": [
    "new_data = new_data.sort_values(['pid', 'time'])\n",
    "\n",
    "new_data_max_time = new_data.groupby(['pid'])['time'].max().reset_index()\n",
    "new_data_max_time.columns = ['pid','max_time']\n",
    "new_data = pd.merge(new_data,new_data_max_time,on=['pid'],how='left')\n",
    "new_data['long'] = new_data['max_time'] - new_data['time']"
   ]
  },
  {
   "cell_type": "code",
   "execution_count": 34,
   "metadata": {},
   "outputs": [],
   "source": [
    "# 计算用户的兴趣变化次数 统计用户兴趣出现几次变化\n",
    "user_tagid_change = new_data.groupby(['pid'])['time'].nunique().reset_index()\n",
    "user_tagid_change.rename(columns={'time': 'pid_tagid_change_time'}, inplace=True)\n",
    "data = pd.merge(data, user_tagid_change, on=['pid'], how='left')"
   ]
  },
  {
   "cell_type": "code",
   "execution_count": 35,
   "metadata": {},
   "outputs": [],
   "source": [
    "agg_list = {\n",
    "    'time': ['mean', 'max', 'min', 'var', 'median','count'],\n",
    "}\n",
    "\n",
    "pid_time_feature = new_data.groupby(['pid']).agg(\n",
    "    agg_list\n",
    ")"
   ]
  },
  {
   "cell_type": "code",
   "execution_count": 36,
   "metadata": {},
   "outputs": [],
   "source": [
    "pid_time_feature.columns = [x[0] + '_' + x[1] for x in pid_time_feature.columns]\n",
    "pid_time_feature = pid_time_feature.reset_index()\n",
    "data = pd.merge(data, pid_time_feature, on=['pid'], how='left')"
   ]
  },
  {
   "cell_type": "code",
   "execution_count": 37,
   "metadata": {},
   "outputs": [],
   "source": [
    "new_data_feature = [\n",
    "    'pid_tagid_change_time',\n",
    "    'time_mean', 'time_max', 'time_min', 'time_var', 'time_median','time_count',\n",
    "]"
   ]
  },
  {
   "cell_type": "code",
   "execution_count": 38,
   "metadata": {},
   "outputs": [],
   "source": [
    "# 特征处理，对于 'province', 'city', 'model','make' 选择交集内的特征，其余特征置为 -1\n",
    "for col in ['province', 'city', 'model','make']:\n",
    "    in_set = set(train[col].unique()) & set(test[col].unique())\n",
    "    data.loc[data[col].isin(list(in_set)),col] = data[col]\n",
    "    data.loc[~data[col].isin(list(in_set)),col] = -1"
   ]
  },
  {
   "cell_type": "code",
   "execution_count": 39,
   "metadata": {},
   "outputs": [],
   "source": [
    "# 二阶统计特征\n",
    "us_feature = []\n",
    "# count 编码 ，和lablending编码一个意思，一种编码方式\n",
    "for col in ['gender', 'age', 'province', 'city', 'model','make']:\n",
    "    data['{}_count'.format(col)] = data.groupby(col)[col].transform('count')\n",
    "    data['{}_category'.format(col)] = data[col].astype('category')\n",
    "    data['{}_category'.format(col)] = data['{}_category'.format(col)].cat.codes\n",
    "    us_feature.append('{}_count'.format(col))\n",
    "    us_feature.append('{}_category'.format(col))"
   ]
  },
  {
   "cell_type": "code",
   "execution_count": 40,
   "metadata": {
    "scrolled": true
   },
   "outputs": [],
   "source": [
    "corss_feature = ['gender', 'age', 'province', 'city', 'model','make']\n",
    "# 交叉组合统计，就是组合特征的共现频次\n",
    "while len(corss_feature) != 0:\n",
    "    f = corss_feature.pop()\n",
    "    for col in corss_feature:\n",
    "        data['{}_{}_count'.format(f, col)] = data.groupby([f, col])[col].transform('count')\n",
    "        data['{}_{}_category'.format(f, col)] = data[f].astype(str) + '_' + data[col].astype(str)\n",
    "        data['{}_{}_category'.format(f, col)] = data['{}_{}_category'.format(f, col)].astype('category')\n",
    "        data['{}_{}_category'.format(f, col)] = data['{}_{}_category'.format(f, col)].cat.codes\n",
    "        us_feature.append('{}_{}_count'.format(f, col))\n",
    "        us_feature.append('{}_{}_category'.format(f, col))"
   ]
  },
  {
   "cell_type": "code",
   "execution_count": 41,
   "metadata": {},
   "outputs": [],
   "source": [
    "# 数据的特点是 训练集 的 label 是 五五开！\n",
    "data['tagid'] = data['tagid'].apply(lambda x: ' '.join(x))"
   ]
  },
  {
   "cell_type": "code",
   "execution_count": 42,
   "metadata": {
    "scrolled": true
   },
   "outputs": [
    {
     "data": {
      "text/html": [
       "<div>\n",
       "<style scoped>\n",
       "    .dataframe tbody tr th:only-of-type {\n",
       "        vertical-align: middle;\n",
       "    }\n",
       "\n",
       "    .dataframe tbody tr th {\n",
       "        vertical-align: top;\n",
       "    }\n",
       "\n",
       "    .dataframe thead th {\n",
       "        text-align: right;\n",
       "    }\n",
       "</style>\n",
       "<table border=\"1\" class=\"dataframe\">\n",
       "  <thead>\n",
       "    <tr style=\"text-align: right;\">\n",
       "      <th></th>\n",
       "      <th>pid</th>\n",
       "      <th>label</th>\n",
       "      <th>gender</th>\n",
       "      <th>age</th>\n",
       "      <th>tagid</th>\n",
       "      <th>time</th>\n",
       "      <th>province</th>\n",
       "      <th>city</th>\n",
       "      <th>model</th>\n",
       "      <th>make</th>\n",
       "      <th>...</th>\n",
       "      <th>city_age_count</th>\n",
       "      <th>city_age_category</th>\n",
       "      <th>city_province_count</th>\n",
       "      <th>city_province_category</th>\n",
       "      <th>province_gender_count</th>\n",
       "      <th>province_gender_category</th>\n",
       "      <th>province_age_count</th>\n",
       "      <th>province_age_category</th>\n",
       "      <th>age_gender_count</th>\n",
       "      <th>age_gender_category</th>\n",
       "    </tr>\n",
       "  </thead>\n",
       "  <tbody>\n",
       "    <tr>\n",
       "      <th>0</th>\n",
       "      <td>1016588</td>\n",
       "      <td>0.0</td>\n",
       "      <td>-1</td>\n",
       "      <td>-1</td>\n",
       "      <td>4457057 9952871 8942704 11273992 12410356 1293...</td>\n",
       "      <td>[1.606747390128E12, 1.606747390128E12, 1.60674...</td>\n",
       "      <td>广西</td>\n",
       "      <td>北海</td>\n",
       "      <td>华为</td>\n",
       "      <td>华为 mate20pro</td>\n",
       "      <td>...</td>\n",
       "      <td>79</td>\n",
       "      <td>284</td>\n",
       "      <td>613</td>\n",
       "      <td>43</td>\n",
       "      <td>11683</td>\n",
       "      <td>39</td>\n",
       "      <td>1833</td>\n",
       "      <td>89</td>\n",
       "      <td>47757</td>\n",
       "      <td>0</td>\n",
       "    </tr>\n",
       "    <tr>\n",
       "      <th>1</th>\n",
       "      <td>1295808</td>\n",
       "      <td>1.0</td>\n",
       "      <td>-1</td>\n",
       "      <td>5.0</td>\n",
       "      <td>10577375 13567578 4437795 8934804 9352464 1332...</td>\n",
       "      <td>[1.605842042532E12, 1.592187596698E12, 1.55986...</td>\n",
       "      <td>广东</td>\n",
       "      <td>广州</td>\n",
       "      <td>OPPO</td>\n",
       "      <td>r11</td>\n",
       "      <td>...</td>\n",
       "      <td>397</td>\n",
       "      <td>775</td>\n",
       "      <td>3906</td>\n",
       "      <td>113</td>\n",
       "      <td>21615</td>\n",
       "      <td>36</td>\n",
       "      <td>2711</td>\n",
       "      <td>87</td>\n",
       "      <td>40912</td>\n",
       "      <td>15</td>\n",
       "    </tr>\n",
       "    <tr>\n",
       "      <th>2</th>\n",
       "      <td>1110160</td>\n",
       "      <td>0.0</td>\n",
       "      <td>-1</td>\n",
       "      <td>-1</td>\n",
       "      <td>11171956 9454883 9361934 10578048 10234462 125...</td>\n",
       "      <td>[1.607351673175E12, 1.607351673175E12, 1.60735...</td>\n",
       "      <td>内蒙古</td>\n",
       "      <td>锡林郭勒盟</td>\n",
       "      <td>小米</td>\n",
       "      <td>小米 红米note2</td>\n",
       "      <td>...</td>\n",
       "      <td>42</td>\n",
       "      <td>1945</td>\n",
       "      <td>349</td>\n",
       "      <td>282</td>\n",
       "      <td>7155</td>\n",
       "      <td>6</td>\n",
       "      <td>1209</td>\n",
       "      <td>14</td>\n",
       "      <td>47757</td>\n",
       "      <td>0</td>\n",
       "    </tr>\n",
       "    <tr>\n",
       "      <th>3</th>\n",
       "      <td>1132597</td>\n",
       "      <td>0.0</td>\n",
       "      <td>-1</td>\n",
       "      <td>2.0</td>\n",
       "      <td>4457927 9412324 12292192 9231799 11977927 8520...</td>\n",
       "      <td>[1.56015519913E12, 1.56015519913E12, 1.5829421...</td>\n",
       "      <td>四川</td>\n",
       "      <td>成都</td>\n",
       "      <td>vivo</td>\n",
       "      <td>vivo x20</td>\n",
       "      <td>...</td>\n",
       "      <td>1155</td>\n",
       "      <td>870</td>\n",
       "      <td>8987</td>\n",
       "      <td>127</td>\n",
       "      <td>21566</td>\n",
       "      <td>18</td>\n",
       "      <td>3002</td>\n",
       "      <td>42</td>\n",
       "      <td>38206</td>\n",
       "      <td>6</td>\n",
       "    </tr>\n",
       "    <tr>\n",
       "      <th>4</th>\n",
       "      <td>1108714</td>\n",
       "      <td>0.0</td>\n",
       "      <td>-1</td>\n",
       "      <td>-1</td>\n",
       "      <td>5737867 5105608 13792904 5454488 13098817 1416...</td>\n",
       "      <td>[1.591494981671E12, 1.616071068225E12, 1.61607...</td>\n",
       "      <td>湖南</td>\n",
       "      <td>长沙</td>\n",
       "      <td>vivo</td>\n",
       "      <td>x23</td>\n",
       "      <td>...</td>\n",
       "      <td>419</td>\n",
       "      <td>1973</td>\n",
       "      <td>3286</td>\n",
       "      <td>286</td>\n",
       "      <td>11794</td>\n",
       "      <td>66</td>\n",
       "      <td>1996</td>\n",
       "      <td>152</td>\n",
       "      <td>47757</td>\n",
       "      <td>0</td>\n",
       "    </tr>\n",
       "  </tbody>\n",
       "</table>\n",
       "<p>5 rows × 59 columns</p>\n",
       "</div>"
      ],
      "text/plain": [
       "       pid  label gender  age  \\\n",
       "0  1016588    0.0     -1   -1   \n",
       "1  1295808    1.0     -1  5.0   \n",
       "2  1110160    0.0     -1   -1   \n",
       "3  1132597    0.0     -1  2.0   \n",
       "4  1108714    0.0     -1   -1   \n",
       "\n",
       "                                               tagid  \\\n",
       "0  4457057 9952871 8942704 11273992 12410356 1293...   \n",
       "1  10577375 13567578 4437795 8934804 9352464 1332...   \n",
       "2  11171956 9454883 9361934 10578048 10234462 125...   \n",
       "3  4457927 9412324 12292192 9231799 11977927 8520...   \n",
       "4  5737867 5105608 13792904 5454488 13098817 1416...   \n",
       "\n",
       "                                                time province   city model  \\\n",
       "0  [1.606747390128E12, 1.606747390128E12, 1.60674...       广西     北海    华为   \n",
       "1  [1.605842042532E12, 1.592187596698E12, 1.55986...       广东     广州  OPPO   \n",
       "2  [1.607351673175E12, 1.607351673175E12, 1.60735...      内蒙古  锡林郭勒盟    小米   \n",
       "3  [1.56015519913E12, 1.56015519913E12, 1.5829421...       四川     成都  vivo   \n",
       "4  [1.591494981671E12, 1.616071068225E12, 1.61607...       湖南     长沙  vivo   \n",
       "\n",
       "           make  ...  city_age_count  city_age_category  city_province_count  \\\n",
       "0  华为 mate20pro  ...              79                284                  613   \n",
       "1           r11  ...             397                775                 3906   \n",
       "2    小米 红米note2  ...              42               1945                  349   \n",
       "3      vivo x20  ...            1155                870                 8987   \n",
       "4           x23  ...             419               1973                 3286   \n",
       "\n",
       "   city_province_category  province_gender_count  province_gender_category  \\\n",
       "0                      43                  11683                        39   \n",
       "1                     113                  21615                        36   \n",
       "2                     282                   7155                         6   \n",
       "3                     127                  21566                        18   \n",
       "4                     286                  11794                        66   \n",
       "\n",
       "   province_age_count  province_age_category  age_gender_count  \\\n",
       "0                1833                     89             47757   \n",
       "1                2711                     87             40912   \n",
       "2                1209                     14             47757   \n",
       "3                3002                     42             38206   \n",
       "4                1996                    152             47757   \n",
       "\n",
       "   age_gender_category  \n",
       "0                    0  \n",
       "1                   15  \n",
       "2                    0  \n",
       "3                    6  \n",
       "4                    0  \n",
       "\n",
       "[5 rows x 59 columns]"
      ]
     },
     "execution_count": 42,
     "metadata": {},
     "output_type": "execute_result"
    }
   ],
   "source": [
    "data.head()"
   ]
  },
  {
   "cell_type": "code",
   "execution_count": 43,
   "metadata": {},
   "outputs": [],
   "source": [
    "def emb(df, f1, f2):\n",
    "    emb_size = 16\n",
    "    print('====================================== {} {} ======================================'.format(f1, f2))\n",
    "    tmp = df.groupby(f1, as_index=False)[f2].agg({'{}_{}_list'.format(f1, f2): list})\n",
    "    sentences = tmp['{}_{}_list'.format(f1, f2)].values.tolist()\n",
    "    del tmp['{}_{}_list'.format(f1, f2)]\n",
    "    for i in range(len(sentences)):\n",
    "        sentences[i] = [str(x) for x in sentences[i]]\n",
    "    model = Word2Vec(sentences, vector_size=emb_size, window=5, min_count=5, sg=0, hs=1, seed=2019)\n",
    "    emb_matrix = []\n",
    "    for seq in sentences:\n",
    "        vec = []\n",
    "        for w in seq:\n",
    "            if w in model.wv:\n",
    "                vec.append(model.wv.get_vector(w))\n",
    "        if len(vec) > 0:\n",
    "            emb_matrix.append(np.mean(vec, axis=0))\n",
    "        else:\n",
    "            emb_matrix.append([0] * emb_size)\n",
    "    emb_matrix = np.array(emb_matrix)\n",
    "    feature = []\n",
    "    for i in range(emb_size):\n",
    "        tmp['{}_{}_emb_{}'.format(f1, f2, i)] = emb_matrix[:, i]\n",
    "        feature.append('{}_{}_emb_{}'.format(f1, f2, i))\n",
    "    del model, emb_matrix, sentences\n",
    "    return tmp, feature"
   ]
  },
  {
   "cell_type": "code",
   "execution_count": 44,
   "metadata": {
    "scrolled": true
   },
   "outputs": [
    {
     "name": "stdout",
     "output_type": "stream",
     "text": [
      "====================================== pid tagid ======================================\n"
     ]
    }
   ],
   "source": [
    "emb_cols = [\n",
    "    ['pid', 'tagid'],\n",
    "]\n",
    "for f1, f2 in emb_cols:\n",
    "    tmp, f = emb(new_data, f1, f2)\n",
    "    data = data.merge(tmp, on=f1, how='left')\n",
    "    us_feature.extend(f)"
   ]
  },
  {
   "cell_type": "code",
   "execution_count": 46,
   "metadata": {},
   "outputs": [],
   "source": [
    "# 按照时间信息，抽取对应的tagid和time信息\n",
    "new_tagid_list = new_data.groupby(['pid'])['tagid'].apply(list).reset_index()\n",
    "new_tagid_list.columns = ['pid','new_tagid']\n",
    "\n",
    "data = pd.merge(data, new_tagid_list, on=['pid'], how='left')"
   ]
  },
  {
   "cell_type": "code",
   "execution_count": 48,
   "metadata": {},
   "outputs": [],
   "source": [
    "def get_list_info(x,i):\n",
    "    if len(x) <= (-i):\n",
    "        x = x + [-1] * (-i - len(x))\n",
    "    return int(x[i])\n",
    "\n",
    "for i in range(1,11):\n",
    "    data['net_tagid_{}'.format(i)] = data['new_tagid'].apply(lambda x:get_list_info(x,-i))\n",
    "    us_feature.append('net_tagid_{}'.format(i))"
   ]
  },
  {
   "cell_type": "code",
   "execution_count": 52,
   "metadata": {},
   "outputs": [],
   "source": [
    "us_feature = us_feature + new_data_feature\n",
    "\n",
    "target_list = ['age', 'province', 'city', 'model']\n",
    "\n",
    "# 特征unique count特征\n",
    "for index, col1 in enumerate(['age', 'province', 'city', 'model']):\n",
    "    for col2 in ['age', 'province', 'city', 'model'][index:]:\n",
    "        data['{}_in_{}_count'.format(col1, col2)] = data.groupby(col1)[col2].transform('count')\n",
    "        data['{}_in_{}_nunique'.format(col1, col2)] = data.groupby(col1)[col2].transform('nunique')\n",
    "        data['{}_in_{}_nunique/{}_in_{}_count'.format(col1, col2, col1, col2)] = data['{}_in_{}_nunique'.format(col1,\n",
    "                                                                                                                col2)] / \\\n",
    "                                                                                 data['{}_in_{}_count'.format(col1,\n",
    "                                                                                                              col2)]\n",
    "\n",
    "        data['{}_in_{}_count'.format(col2, col1)] = data.groupby(col2)[col1].transform('count')\n",
    "        data['{}_in_{}_nunique'.format(col2, col1)] = data.groupby(col2)[col1].transform('nunique')\n",
    "        data['{}_in_{}_nunique/{}_in_{}_count'.format(col2, col1, col2, col1)] = data['{}_in_{}_nunique'.format(col2,\n",
    "                                                                                                                col1)] / \\\n",
    "                                                                                 data['{}_in_{}_count'.format(col2,\n",
    "                                                                                                              col1)]\n",
    "\n",
    "        us_feature.append('{}_in_{}_count'.format(col1, col2))\n",
    "        us_feature.append('{}_in_{}_nunique'.format(col1, col2))\n",
    "        us_feature.append('{}_in_{}_nunique/{}_in_{}_count'.format(col1, col2, col1, col2))\n",
    "\n",
    "        us_feature.append('{}_in_{}_count'.format(col2, col1))\n",
    "        us_feature.append('{}_in_{}_nunique'.format(col2, col1))\n",
    "        us_feature.append('{}_in_{}_nunique/{}_in_{}_count'.format(col2, col1, col2, col1))\n",
    "\n",
    "train = data[:train.shape[0]]\n",
    "test = data[train.shape[0]:]"
   ]
  },
  {
   "cell_type": "code",
   "execution_count": 68,
   "metadata": {},
   "outputs": [
    {
     "data": {
      "text/plain": [
       "(300000, 4)"
      ]
     },
     "execution_count": 68,
     "metadata": {},
     "output_type": "execute_result"
    }
   ],
   "source": [
    "train_bert.shape"
   ]
  },
  {
   "cell_type": "code",
   "execution_count": 64,
   "metadata": {},
   "outputs": [],
   "source": [
    "train_bert = train[['pid', 'tagid', 'new_tagid', 'label']].copy()\n",
    "train_bert['new_tagid'] = train_bert.new_tagid.apply(lambda x: ' '.join(x))\n",
    "test_bert = test[['pid', 'tagid', 'new_tagid']].copy()\n",
    "test_bert['new_tagid'] = test_bert.new_tagid.apply(lambda x: ' '.join(x))\n",
    "\n",
    "train_bert.to_csv('./data/train_bert.csv', index=False)\n",
    "test_bert.to_csv('./data/test_bert.csv', index=False)"
   ]
  },
  {
   "cell_type": "code",
   "execution_count": null,
   "metadata": {},
   "outputs": [],
   "source": [
    "# 使用bert训练模型\n",
    "# 1.原始标签序列分类模型\n",
    "# 2.按照日期排序后的标签分类模型\n",
    "train_bert_pred = pd.read_csv('./data/roberta_pred_oof.csv')\n",
    "test_bert_pred = pd.read_csv('./data/roberta_pred_test.csv')\n",
    "\n",
    "train = pd.merge(train, train_bert_pred, on='pid')\n",
    "test = pd.merge(test, test_bert_pred, on='pid')"
   ]
  },
  {
   "cell_type": "code",
   "execution_count": 54,
   "metadata": {},
   "outputs": [],
   "source": [
    "# 引入kflod转化率\n",
    "skf_ratdio = StratifiedKFold(n_splits=5, shuffle=True, random_state=42)\n",
    "oof_train_ratdio = np.zeros((train.shape[0], len(target_list)))\n",
    "oof_test_ratdio = np.zeros((test.shape[0], len(target_list)))\n",
    "\n",
    "for index, (train_index, valid_index) in enumerate(skf_ratdio.split(train, train['label'])):\n",
    "    X_train, X_valid = train.iloc[train_index], train.iloc[valid_index]\n",
    "    X_test = test.copy()\n",
    "    for k, col in enumerate(target_list):\n",
    "        t = X_train.groupby(col)[['label']].mean().to_dict()\n",
    "        X_valid['ratdio_{}'.format(col)] = X_valid[col].map(t['label'])\n",
    "        oof_train_ratdio[valid_index, k] = X_valid['ratdio_{}'.format(col)].values\n",
    "        X_test['ratdio_{}'.format(col)] = X_test[col].map(t['label'])\n",
    "        oof_test_ratdio[:, k] = oof_test_ratdio[:, k] + X_test['ratdio_{}'.format(col)].values / skf_ratdio.n_splits\n",
    "\n",
    "for i in range(0, len(target_list)):\n",
    "    train[i] = oof_train_ratdio[:, i]\n",
    "    test[i] = oof_test_ratdio[:, i]\n",
    "    us_feature.append(i)"
   ]
  },
  {
   "cell_type": "code",
   "execution_count": 57,
   "metadata": {},
   "outputs": [
    {
     "name": "stdout",
     "output_type": "stream",
     "text": [
      "0\n",
      "Training until validation scores don't improve for 50 rounds\n",
      "[50]\tvalid_0's auc: 0.785909\n",
      "[100]\tvalid_0's auc: 0.796961\n",
      "[150]\tvalid_0's auc: 0.800093\n",
      "[200]\tvalid_0's auc: 0.801108\n",
      "[250]\tvalid_0's auc: 0.801849\n",
      "[300]\tvalid_0's auc: 0.802506\n",
      "[350]\tvalid_0's auc: 0.802871\n",
      "[400]\tvalid_0's auc: 0.803353\n",
      "[450]\tvalid_0's auc: 0.803743\n",
      "[500]\tvalid_0's auc: 0.804019\n",
      "[550]\tvalid_0's auc: 0.804085\n",
      "[600]\tvalid_0's auc: 0.804051\n",
      "Early stopping, best iteration is:\n",
      "[564]\tvalid_0's auc: 0.80417\n",
      "1\n",
      "Training until validation scores don't improve for 50 rounds\n",
      "[50]\tvalid_0's auc: 0.784141\n",
      "[100]\tvalid_0's auc: 0.796373\n",
      "[150]\tvalid_0's auc: 0.798939\n",
      "[200]\tvalid_0's auc: 0.799731\n",
      "[250]\tvalid_0's auc: 0.8002\n",
      "[300]\tvalid_0's auc: 0.800827\n",
      "[350]\tvalid_0's auc: 0.801253\n",
      "[400]\tvalid_0's auc: 0.801495\n",
      "[450]\tvalid_0's auc: 0.801658\n",
      "Early stopping, best iteration is:\n",
      "[432]\tvalid_0's auc: 0.801766\n",
      "2\n",
      "Training until validation scores don't improve for 50 rounds\n",
      "[50]\tvalid_0's auc: 0.786823\n",
      "[100]\tvalid_0's auc: 0.797155\n",
      "[150]\tvalid_0's auc: 0.799668\n",
      "[200]\tvalid_0's auc: 0.80066\n",
      "[250]\tvalid_0's auc: 0.801242\n",
      "[300]\tvalid_0's auc: 0.801683\n",
      "[350]\tvalid_0's auc: 0.802244\n",
      "[400]\tvalid_0's auc: 0.802685\n",
      "[450]\tvalid_0's auc: 0.802842\n",
      "Early stopping, best iteration is:\n",
      "[427]\tvalid_0's auc: 0.802941\n",
      "3\n",
      "Training until validation scores don't improve for 50 rounds\n",
      "[50]\tvalid_0's auc: 0.784934\n",
      "[100]\tvalid_0's auc: 0.795598\n",
      "[150]\tvalid_0's auc: 0.79827\n",
      "[200]\tvalid_0's auc: 0.799109\n",
      "[250]\tvalid_0's auc: 0.79945\n",
      "[300]\tvalid_0's auc: 0.799907\n",
      "[350]\tvalid_0's auc: 0.800452\n",
      "[400]\tvalid_0's auc: 0.80086\n",
      "Early stopping, best iteration is:\n",
      "[398]\tvalid_0's auc: 0.800881\n",
      "4\n",
      "Training until validation scores don't improve for 50 rounds\n",
      "[50]\tvalid_0's auc: 0.786901\n",
      "[100]\tvalid_0's auc: 0.796758\n",
      "[150]\tvalid_0's auc: 0.799545\n",
      "[200]\tvalid_0's auc: 0.800472\n",
      "[250]\tvalid_0's auc: 0.80096\n",
      "[300]\tvalid_0's auc: 0.801113\n",
      "[350]\tvalid_0's auc: 0.801571\n",
      "[400]\tvalid_0's auc: 0.802146\n",
      "Early stopping, best iteration is:\n",
      "[392]\tvalid_0's auc: 0.802173\n",
      "0.7236266666666666\n",
      "0.5\n"
     ]
    }
   ],
   "source": [
    "us_feature = list(set(us_feature))\n",
    "us_feature.append('gender')\n",
    "us_feature.append('age')\n",
    "\n",
    "skf = StratifiedKFold(n_splits=5, shuffle=True, random_state=42)\n",
    "oof_train = np.zeros(shape=(train.shape[0]))\n",
    "oof_test = np.zeros(shape=(test.shape[0]))\n",
    "\n",
    "params = {\n",
    "    'boosting_type': 'gbdt',\n",
    "    'objective': 'binary',\n",
    "    'metric': 'auc',\n",
    "    'max_depth': -1,\n",
    "    'num_leaves': 31,\n",
    "    'learning_rate': 0.1,\n",
    "    'verbose': 0,\n",
    "    'random_state': 42,\n",
    "    'n_jobs': -1,\n",
    "}\n",
    "imp_Df = pd.DataFrame()\n",
    "imp_Df['feature'] = us_feature\n",
    "\n",
    "for index, (train_index, valid_index) in enumerate(skf.split(train, train['label'])):\n",
    "    X_train, X_valid = train.iloc[train_index][us_feature].values, train.iloc[valid_index][us_feature].values\n",
    "    y_train, y_valid = train.iloc[train_index]['label'], train.iloc[valid_index]['label']\n",
    "    print(index)\n",
    "    dtrain = lgb.Dataset(X_train, label=y_train)\n",
    "    dval = lgb.Dataset(X_valid, label=y_valid)\n",
    "    lgb_model = lgb.train(\n",
    "        params,\n",
    "        dtrain,\n",
    "        num_boost_round=10000,\n",
    "        valid_sets=[dval],\n",
    "        early_stopping_rounds=50,\n",
    "        verbose_eval=50,\n",
    "    )\n",
    "    X_valid_pred = lgb_model.predict(X_valid, num_iteration=lgb_model.best_iteration)\n",
    "    imp_Df[index] = lgb_model.feature_importance()\n",
    "\n",
    "    oof_train[valid_index] = X_valid_pred\n",
    "    oof_test = oof_test + lgb_model.predict(test[us_feature].values,\n",
    "                                            num_iteration=lgb_model.best_iteration) / skf.n_splits\n",
    "\n",
    "train['predict'] = oof_train\n",
    "train['rank'] = train['predict'].rank()\n",
    "train['p'] = 1\n",
    "train.loc[train['rank'] <= train.shape[0] * 0.5, 'p'] = 0\n",
    "# train['pre'] = train['predict'].apply(lambda x:1 if x>0.5 else 0)\n",
    "\n",
    "bst_f1_tmp = f1_score(train['label'].values, train['p'].values)\n",
    "print(bst_f1_tmp)\n",
    "# bst_f1_tmp = f1_score(train['label'].values, train['pre'].values)\n",
    "# print(bst_f1_tmp)\n",
    "# bst_f1 = 0\n",
    "# bst_thr = 0\n",
    "# for thr in range(0,11):\n",
    "#     thr = thr / 10\n",
    "#     tmp = np.where(oof_train > thr,1,0)\n",
    "#     bst_f1_tmp = f1_score(train['label'].values,tmp)\n",
    "#     if bst_f1 < bst_f1_tmp:\n",
    "#         bst_f1 = bst_f1_tmp\n",
    "#         bst_thr = thr\n",
    "\n",
    "# print(bst_f1,bst_thr)\n",
    "#\n",
    "submit = test[['pid']]\n",
    "submit['tmp'] = oof_test\n",
    "submit.columns = ['user_id', 'tmp']\n",
    "\n",
    "submit['rank'] = submit['tmp'].rank()\n",
    "submit['category_id'] = 1\n",
    "submit.loc[submit['rank'] <= int(submit.shape[0] * 0.5), 'category_id'] = 0\n",
    "# submit['pre'] = submit['tmp'].apply(lambda x:1 if x>0.5 else 0)\n",
    "\n",
    "print(submit['category_id'].mean())\n",
    "\n",
    "submit[['user_id', 'category_id']].to_csv('open_{}.csv'.format(str(bst_f1_tmp).split('.')[1]), index=False)\n",
    "# print(submit['pre'].mean())"
   ]
  },
  {
   "cell_type": "code",
   "execution_count": null,
   "metadata": {},
   "outputs": [],
   "source": []
  }
 ],
 "metadata": {
  "kernelspec": {
   "display_name": "Python 3",
   "language": "python",
   "name": "python3"
  },
  "language_info": {
   "codemirror_mode": {
    "name": "ipython",
    "version": 3
   },
   "file_extension": ".py",
   "mimetype": "text/x-python",
   "name": "python",
   "nbconvert_exporter": "python",
   "pygments_lexer": "ipython3",
   "version": "3.6.5"
  }
 },
 "nbformat": 4,
 "nbformat_minor": 2
}
